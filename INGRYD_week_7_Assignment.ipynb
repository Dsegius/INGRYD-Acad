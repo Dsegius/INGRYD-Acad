{
  "nbformat": 4,
  "nbformat_minor": 0,
  "metadata": {
    "colab": {
      "provenance": []
    },
    "kernelspec": {
      "name": "python3",
      "display_name": "Python 3"
    },
    "language_info": {
      "name": "python"
    }
  },
  "cells": [
    {
      "cell_type": "markdown",
      "source": [
        "find the mean, standard deviation, median and variance of 20 temperatures"
      ],
      "metadata": {
        "id": "8DHF6Zg6ChmR"
      }
    },
    {
      "cell_type": "code",
      "execution_count": 85,
      "metadata": {
        "colab": {
          "base_uri": "https://localhost:8080/"
        },
        "id": "oXh7m-YnyfD2",
        "outputId": "96c41ad5-88de-4bed-8df4-ebbb76e9a3a3"
      },
      "outputs": [
        {
          "output_type": "stream",
          "name": "stdout",
          "text": [
            "Temperature of 20 random people = [34.06, 36.34, 35.44, 33.3, 34.31, 35.51, 34.58, 35.71, 33.69, 35.02, 35.65, 36.16, 36.91, 35.25, 35.41, 36.14, 33.32, 33.13, 33.98, 33.19]\n",
            "\n",
            "\n",
            "The average temperature is: 34.855\n",
            "\n",
            "\n",
            "The median temperature is: 35.135000000000005\n",
            "\n",
            "\n",
            "The Standard Deviation is: 1.1710926072419898\n",
            "\n",
            "\n",
            "The variance is: 1.3714578947368417\n"
          ]
        }
      ],
      "source": [
        "import statistics as st\n",
        "import random\n",
        "\n",
        "lower_temp = 33.0\n",
        "upper_temp = 37.0\n",
        "num_floats = 20  # Number of random floats to generate\n",
        "random_floats = []\n",
        "\n",
        "#to get 20 random tempeature for 20 people\n",
        "for i in range(num_floats):\n",
        "    random_temp = random.uniform(lower_temp, upper_temp)\n",
        "    rounded = round(random_temp,2)\n",
        "    random_floats.append(rounded)\n",
        "\n",
        "print(f'Temperature of 20 random people = {random_floats}')\n",
        "print(\"\")\n",
        "print(\"\")\n",
        "\n",
        "#the mean temperature\n",
        "mean_temp = (st.mean(random_floats))\n",
        "print(f\"The average temperature is: {mean_temp}\")\n",
        "print(\"\")\n",
        "print(\"\")\n",
        "\n",
        "#the median temperature\n",
        "median_temp = st.median(sorted(random_floats))\n",
        "print(f\"The median temperature is: {median_temp}\")\n",
        "print(\"\")\n",
        "print(\"\")\n",
        "\n",
        "#the standard deviation of the temperatures\n",
        "std = st.stdev(random_floats)\n",
        "print(f\"The Standard Deviation is: {std}\")\n",
        "print(\"\")\n",
        "print(\"\")\n",
        "\n",
        "#the variance of the temperatures\n",
        "var = st.variance(random_floats)\n",
        "print(f\"The variance is: {var}\")"
      ]
    },
    {
      "cell_type": "markdown",
      "source": [],
      "metadata": {
        "id": "FcrO3Bxo7Gqx"
      }
    },
    {
      "cell_type": "code",
      "source": [],
      "metadata": {
        "id": "Zt3MpWhfz_Yb"
      },
      "execution_count": null,
      "outputs": []
    }
  ]
}